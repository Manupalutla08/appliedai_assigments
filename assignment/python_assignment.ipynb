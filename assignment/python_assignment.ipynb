{
  "nbformat": 4,
  "nbformat_minor": 0,
  "metadata": {
    "colab": {
      "name": "python_assignment.ipynb",
      "provenance": [],
      "collapsed_sections": []
    },
    "kernelspec": {
      "name": "python3",
      "display_name": "Python 3"
    }
  },
  "cells": [
    {
      "cell_type": "markdown",
      "metadata": {
        "id": "p41qHcyR1kF2"
      },
      "source": [
        "Question1:"
      ]
    },
    {
      "cell_type": "code",
      "metadata": {
        "id": "oX6LrgepGsjX",
        "outputId": "c8014c6a-b3cc-4068-9d0c-59af73c4c625",
        "colab": {
          "base_uri": "https://localhost:8080/",
          "height": 106
        }
      },
      "source": [
        "A = [[1,3,4],[2,5,7],[5,9,6]]\n",
        "B = [[1,0,0],[0,1,0],[0,0,1]]\n",
        "C=[]\n",
        "\n",
        "if (len(A[0]) != len(B)):\n",
        "    print (\"not possible\")\n",
        "else:\n",
        "    print (\"possible\",C) \n",
        "    C = [[0 for x in range(len(B[0]))] for x in range(len(A))]\n",
        "    print(C)\n",
        "    for i in range(len(A)):\n",
        "        for j in range(len(B[0])):\n",
        "            for k in range(len(B)):\n",
        "                  C[i][j] += A[i][k] * B[k][j]\n",
        "\n",
        "for i in C:\n",
        "    print(i)"
      ],
      "execution_count": null,
      "outputs": [
        {
          "output_type": "stream",
          "text": [
            "possible []\n",
            "[[0, 0, 0], [0, 0, 0], [0, 0, 0]]\n",
            "[1, 3, 4]\n",
            "[2, 5, 7]\n",
            "[5, 9, 6]\n"
          ],
          "name": "stdout"
        }
      ]
    },
    {
      "cell_type": "markdown",
      "metadata": {
        "id": "d72OaPNCEIMF"
      },
      "source": [
        "Question 2:\n"
      ]
    },
    {
      "cell_type": "code",
      "metadata": {
        "id": "BCn9HuB8Gvo0",
        "outputId": "43058cb2-586e-4485-cbdb-3dac410f8e31",
        "colab": {
          "base_uri": "https://localhost:8080/",
          "height": 55
        }
      },
      "source": [
        "from functools import reduce\n",
        "import random\n",
        "\n",
        "A = [0,5,27,6,13,28,100,45,10,79]\n",
        "A1=[]\n",
        "lst=[]\n",
        "\n",
        "def add(x,y):\n",
        "    return x+y\n",
        "\n",
        "# you can free to change all these codes/structure\n",
        "def pick_a_number_from_list(A2):\n",
        "\n",
        "    r=random.uniform(0,1)\n",
        "\n",
        "    for i in range(len(A2)):\n",
        "        if(r<A2[i]):\n",
        "            return(i)   \n",
        "\n",
        "def sampling_based_on_magnitued():\n",
        "    sum = reduce(add,A)\n",
        "\n",
        "    for i in A:\n",
        "        A1.append(i/sum)\n",
        "\n",
        "    for i in range(len(A1)):\n",
        "        if(i==0):\n",
        "            A1[i]=A1[i]\n",
        "        else:\n",
        "            A1[i]=A1[i]+A1[i-1]\n",
        "\n",
        "    for i in range(1,100):\n",
        "        number = pick_a_number_from_list(A1)\n",
        "        lst.append(A[number])\n",
        "\n",
        "    print(lst)\n",
        "\n",
        "sampling_based_on_magnitued()"
      ],
      "execution_count": null,
      "outputs": [
        {
          "output_type": "stream",
          "text": [
            "[79, 45, 79, 45, 79, 100, 100, 100, 79, 79, 100, 10, 79, 45, 100, 79, 79, 100, 79, 45, 100, 100, 100, 79, 28, 79, 45, 100, 27, 10, 100, 79, 28, 45, 79, 100, 5, 45, 27, 79, 79, 13, 79, 45, 27, 45, 100, 100, 10, 79, 28, 79, 79, 100, 79, 100, 45, 100, 100, 100, 45, 45, 45, 100, 79, 79, 79, 27, 28, 79, 79, 100, 79, 79, 45, 28, 27, 100, 5, 79, 100, 100, 79, 28, 45, 45, 100, 13, 100, 100, 45, 45, 100, 79, 100, 27, 79, 45, 27]\n"
          ],
          "name": "stdout"
        }
      ]
    },
    {
      "cell_type": "markdown",
      "metadata": {
        "id": "1fe2x1PW0xfd"
      },
      "source": [
        "Question 3"
      ]
    },
    {
      "cell_type": "code",
      "metadata": {
        "id": "RHWHeHb9Gv3U",
        "outputId": "c393e267-9df0-43d1-dc17-d51227d5d611",
        "colab": {
          "base_uri": "https://localhost:8080/",
          "height": 35
        }
      },
      "source": [
        "s='#2a$#b%c%561#'\n",
        "lst=[]\n",
        "s1=''\n",
        "\n",
        "\n",
        "for i in range(len(s)):\n",
        "    lst.extend(s[i])\n",
        "\n",
        "\n",
        "for i in range(len(s)):\n",
        "    if(lst[i].isnumeric()):\n",
        "        s1=s1+'#'\n",
        "\n",
        "\n",
        "print(s1)"
      ],
      "execution_count": null,
      "outputs": [
        {
          "output_type": "stream",
          "text": [
            "####\n"
          ],
          "name": "stdout"
        }
      ]
    },
    {
      "cell_type": "markdown",
      "metadata": {
        "id": "S5oTG1kGywXb"
      },
      "source": [
        "Question 4"
      ]
    },
    {
      "cell_type": "code",
      "metadata": {
        "id": "ukVOhpEKGwDj",
        "outputId": "2686e933-0d07-4b3d-aba0-854838f217e3",
        "colab": {
          "base_uri": "https://localhost:8080/",
          "height": 337
        }
      },
      "source": [
        "import math\n",
        "\n",
        "students=['student1','student2','student3','student4','student5','student6','student7','student8','student9','student10'] \n",
        "marks = [45, 78, 12, 14, 48, 43, 47, 98, 35, 80]\n",
        "d={}\n",
        "d1={}\n",
        "\n",
        "def display_dash_board(students, marks):\n",
        "\n",
        "    for i in range(len(students)):\n",
        "        d[marks[i]]=students[i]\n",
        "    marks.sort(reverse=True)\n",
        "    \n",
        "    print(\"Students who got top 5 ranks\")\n",
        "    for i in range(0,5):\n",
        "        print(d[marks[i]],marks[i])\n",
        "    \n",
        "    marks.reverse()\n",
        "\n",
        "    print(\"Students who got least 5 ranks\")\n",
        "    for i in range(0,5):\n",
        "        print(d[marks[i]],marks[i])\n",
        "\n",
        "    max=marks[len(marks)-1]\n",
        "    min=marks[0]\n",
        "    diff = max - min\n",
        "    per_25=0.25 * diff\n",
        "    per_75 = 0.75 * diff\n",
        "\n",
        "\n",
        "\n",
        "    print(\"Students who got marks between 25th and 75th percentile\")\n",
        "    for i in marks:\n",
        "        if(i>per_25 and i<per_75):\n",
        "            print(d[i],i)\n",
        "\n",
        "\n",
        "\n",
        "display_dash_board(students, marks)\n"
      ],
      "execution_count": 11,
      "outputs": [
        {
          "output_type": "stream",
          "text": [
            "Students who got top 5 ranks\n",
            "student8 98\n",
            "student10 80\n",
            "student2 78\n",
            "student5 48\n",
            "student7 47\n",
            "Students who got least 5 ranks\n",
            "student3 12\n",
            "student4 14\n",
            "student9 35\n",
            "student6 43\n",
            "student1 45\n",
            "Students who got marks between 25th and 75th percentile\n",
            "student9 35\n",
            "student6 43\n",
            "student1 45\n",
            "student7 47\n",
            "student5 48\n"
          ],
          "name": "stdout"
        }
      ]
    },
    {
      "cell_type": "markdown",
      "metadata": {
        "id": "edQYD-INcxCM"
      },
      "source": [
        "Question 5:"
      ]
    },
    {
      "cell_type": "code",
      "metadata": {
        "id": "Yl0kTRtNGwP1",
        "outputId": "8440fe29-6167-4ab9-f8a0-38d56af7d9f4",
        "colab": {
          "base_uri": "https://localhost:8080/",
          "height": 106
        }
      },
      "source": [
        "import math\n",
        "\n",
        "S= [(1,2),(3,4),(-1,1),(6,-7),(0, 6),(-5,-8),(-1,-1),(6,0),(1,-1)]\n",
        "P= (3,-4)\n",
        "lst=[]\n",
        "dict={}\n",
        "\n",
        "for i in S:\n",
        "    m=(i[0]*P[0]+i[1]*P[1])/((math.sqrt(i[0]**2+i[1]**2))*(math.sqrt(P[0]**2+P[1]**2)))\n",
        "    lst.append(m)\n",
        "    dict[m]=i\n",
        "\n",
        "lst=sorted(lst,reverse=True)\n",
        "\n",
        "\n",
        "for i in range(0,5):\n",
        "    print(dict[lst[i]])\n",
        "    "
      ],
      "execution_count": null,
      "outputs": [
        {
          "output_type": "stream",
          "text": [
            "(6, -7)\n",
            "(1, -1)\n",
            "(6, 0)\n",
            "(-5, -8)\n",
            "(-1, -1)\n"
          ],
          "name": "stdout"
        }
      ]
    },
    {
      "cell_type": "markdown",
      "metadata": {
        "id": "QEt8uFHW1YD8"
      },
      "source": [
        "Question 6"
      ]
    },
    {
      "cell_type": "code",
      "metadata": {
        "id": "KhsHhAIZGwZY",
        "outputId": "a8fead9a-1f1f-4052-86e5-d1577d7598d4",
        "colab": {
          "base_uri": "https://localhost:8080/",
          "height": 88
        }
      },
      "source": [
        "import re\n",
        "\n",
        "Red= [(1,1),(2,1),(4,2),(2,4), (-1,4)]\n",
        "Blue= [(-2,-1),(-1,-2),(-3,-2),(-3,-1),(1,-3)]\n",
        "Lines=[\"1x+1y+0\",\"1x-1y+0\",\"1x+0y-3\",\"0x+1y-0.5\"]\n",
        "lst=[]\n",
        "\n",
        "for i in Lines:\n",
        "    res = re.findall(r'[0-9\\-\\+]+', i)\n",
        "    lst.append(res)\n",
        "\n",
        "def check(j):\n",
        "    b=0\n",
        "    lst1=[]\n",
        "    lst2=[]\n",
        "\n",
        "    for i in Red: \n",
        "        m=i[0]*int(j[0])+i[1]*int(j[1])+int(j[2])\n",
        "        lst1.append(m)\n",
        "\n",
        "    for i in Blue: \n",
        "        m=i[0]*int(j[0])+i[1]*int(j[1])+int(j[2])\n",
        "        lst2.append(m)    \n",
        "        \n",
        "    if(all(pos_neg(i) == \"pos\" for i in lst1) and all(pos_neg(i) == \"neg\" for i in lst2)):      \n",
        "         return True\n",
        "\n",
        "    elif(all(pos_neg(i) == \"neg\" for i in lst1) and all(pos_neg(i) == \"pos\" for i in lst2)):\n",
        "        return True\n",
        "\n",
        "    else:         \n",
        "         return False\n",
        "        \n",
        "\n",
        "def pos_neg(num):\n",
        "    \n",
        "    if(num>0):\n",
        "        return \"pos\"\n",
        "    if(num<0):\n",
        "        return \"neg\"\n",
        "\n",
        "    \n",
        "    \n",
        "for j in lst: \n",
        "    if(check(j)):\n",
        "        print(\"yes\")\n",
        "    else:\n",
        "        print(\"no\")\n",
        "\n",
        "        "
      ],
      "execution_count": null,
      "outputs": [
        {
          "output_type": "stream",
          "text": [
            "yes\n",
            "no\n",
            "no\n",
            "yes\n"
          ],
          "name": "stdout"
        }
      ]
    },
    {
      "cell_type": "markdown",
      "metadata": {
        "id": "4-sPY3g7NqAk"
      },
      "source": [
        "Question 7:"
      ]
    },
    {
      "cell_type": "code",
      "metadata": {
        "id": "DY3e1cfnGwkg",
        "outputId": "dbdecdc6-09e2-459e-ffaa-f99ada233608",
        "colab": {
          "base_uri": "https://localhost:8080/",
          "height": 52
        }
      },
      "source": [
        "import re\n",
        "s = input(\"enter a string\")\n",
        "s1=s.replace('_','')\n",
        "s1=s1.replace(' ','')\n",
        "lst = s1.split(',')\n",
        "n=len(lst)\n",
        "\n",
        "def add(lst,l,m):\n",
        "    n=len(lst)\n",
        "    d=0\n",
        "    for k in range(l,m):\n",
        "        if(lst[k]!=''):\n",
        "            d=d+int(lst[k])\n",
        "\n",
        "    for k in range(l,m):\n",
        "        lst[k]=d/(m-l)\n",
        "\n",
        "for i in range(n):\n",
        "    if(lst[i]!='' and type(lst[i])==str):\n",
        "        if(i==0 or i==(n-1)):\n",
        "            add(lst,0,n)\n",
        "            break\n",
        "        else:\n",
        "            if(lst[0]==''):\n",
        "                add(lst,0,i+1)\n",
        "            else:\n",
        "                for j in range(0,i+1):\n",
        "                     if(lst[j]=='' and type(lst[j-1])==float):\n",
        "                         add(lst,j-1,i+1)  \n",
        "    if(lst[i]!=''):\n",
        "        for j in range(i+1,n):\n",
        "            if(lst[j]!=''):\n",
        "                break\n",
        "            elif(j==(n-1)):\n",
        "                add(lst,i,n)\n",
        "                \n",
        "             \n",
        "\n",
        "print(lst)\n",
        "       "
      ],
      "execution_count": 7,
      "outputs": [
        {
          "output_type": "stream",
          "text": [
            "enter a string_, _, 30, _, _, _, 50, _, _ \n",
            "[10.0, 10.0, 12.0, 12.0, 12.0, 12.0, 4.0, 4.0, 4.0]\n"
          ],
          "name": "stdout"
        }
      ]
    },
    {
      "cell_type": "markdown",
      "metadata": {
        "id": "lDNwxGwHJHhJ"
      },
      "source": [
        "Question 8:"
      ]
    },
    {
      "cell_type": "code",
      "metadata": {
        "id": "UPh36SR0GwuE",
        "outputId": "d0de8cf5-8574-4bb4-9a59-980ac56a6bfa",
        "colab": {
          "base_uri": "https://localhost:8080/",
          "height": 284
        }
      },
      "source": [
        "def compute_conditional_probabilites(A):\n",
        "    m1dict={}\n",
        "    m2dict={}\n",
        "    sum=10\n",
        "    m=0\n",
        "\n",
        "    for i in A:\n",
        "        m1dict[i[0]]=0\n",
        "        m2dict[i[1]]=0\n",
        "\n",
        "    for i in A:\n",
        "        if i[0] in m1dict:\n",
        "            j=m1dict[i[0]]\n",
        "            m1dict[i[0]] = j+1\n",
        "        if i[1] in m2dict:\n",
        "            j=m2dict[i[1]]\n",
        "            m2dict[i[1]] = j+1\n",
        "\n",
        "    for i in m1dict:\n",
        "        for j in m2dict:\n",
        "            m=0\n",
        "            for k in A:\n",
        "                if(i==k[0] and j==k[1]):\n",
        "                    m=m+1\n",
        "            print((m/sum)*(sum/m2dict[j]))     \n",
        "\n",
        "A = [['F1','S1'],['F2','S2'],['F3','S3'],['F1','S2'],['F2','S3'],['F3','S2'],['F2','S1'],['F4','S1'],['F4','S3'],['F5','S1']]\n",
        "\n",
        "compute_conditional_probabilites(A)"
      ],
      "execution_count": null,
      "outputs": [
        {
          "output_type": "stream",
          "text": [
            "0.25\n",
            "0.33333333333333337\n",
            "0.0\n",
            "0.25\n",
            "0.33333333333333337\n",
            "0.33333333333333337\n",
            "0.0\n",
            "0.33333333333333337\n",
            "0.33333333333333337\n",
            "0.25\n",
            "0.0\n",
            "0.33333333333333337\n",
            "0.25\n",
            "0.0\n",
            "0.0\n"
          ],
          "name": "stdout"
        }
      ]
    },
    {
      "cell_type": "markdown",
      "metadata": {
        "id": "LQJmQWt1HJ0l"
      },
      "source": [
        "Question 9:"
      ]
    },
    {
      "cell_type": "code",
      "metadata": {
        "id": "p3tVEvroGw3H",
        "outputId": "43807b73-6500-42ca-b8c6-63177a2cd6ae",
        "colab": {
          "base_uri": "https://localhost:8080/",
          "height": 70
        }
      },
      "source": [
        "def string_features(S1, S2):\n",
        "    lst = S1.split()\n",
        "    lst2 = S2.split()\n",
        "    lste=[]\n",
        "    lst1=[]\n",
        "    m=0\n",
        "    n=0\n",
        "    for i in lst:\n",
        "        if i in lst2:\n",
        "            lste.append(i)\n",
        "\n",
        "    for i in lst:\n",
        "        if i not in lste:\n",
        "            lst1.append(i)   \n",
        "    print(lst1)\n",
        "    lst1=[]\n",
        "    for k in lst2:\n",
        "        if k not in lste:\n",
        "            lst1.append(k)\n",
        "    print(lst1)\n",
        "    print(len(lste))\n",
        "  \n",
        "\n",
        "S1= \"the first column F will contain only 5 uniques values\"\n",
        "S2= \"the second column S will contain only 3 uniques values\"\n",
        "string_features(S1, S2)"
      ],
      "execution_count": null,
      "outputs": [
        {
          "output_type": "stream",
          "text": [
            "['first', 'F', '5']\n",
            "['second', 'S', '3']\n",
            "7\n"
          ],
          "name": "stdout"
        }
      ]
    },
    {
      "cell_type": "markdown",
      "metadata": {
        "id": "Ujy3SxcIG3Zo"
      },
      "source": [
        "Question 10:"
      ]
    },
    {
      "cell_type": "code",
      "metadata": {
        "id": "yH51M9kaGxBv",
        "outputId": "e14f3fa9-4669-4f5e-8be7-9b198244472d",
        "colab": {
          "base_uri": "https://localhost:8080/",
          "height": 35
        }
      },
      "source": [
        "import math\n",
        "def compute_log_loss(A):\n",
        "    d=0\n",
        "    n = len(A)\n",
        "    for i in A:       \n",
        "        a=i[0] * math.log(i[1],10)\n",
        "        b=(1-i[0]) * math.log((1-i[1]),10)\n",
        "        d=d+a+b\n",
        "    \n",
        "    return((-d/n))\n",
        "\n",
        "A = [[1, 0.4], [0, 0.5], [0, 0.9], [0, 0.3], [0, 0.6], [1, 0.1], [1, 0.9], [1, 0.8]]\n",
        "print(compute_log_loss(A))"
      ],
      "execution_count": null,
      "outputs": [
        {
          "output_type": "stream",
          "text": [
            "0.42430993457031635\n"
          ],
          "name": "stdout"
        }
      ]
    }
  ]
}