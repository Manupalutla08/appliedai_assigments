{
  "nbformat": 4,
  "nbformat_minor": 0,
  "metadata": {
    "colab": {
      "name": "Optional assignment 1",
      "provenance": [],
      "collapsed_sections": []
    },
    "kernelspec": {
      "name": "python3",
      "display_name": "Python 3"
    }
  },
  "cells": [
    {
      "cell_type": "markdown",
      "metadata": {
        "id": "iCeDTNtcPTPB",
        "colab_type": "text"
      },
      "source": [
        "function that inputs a number and prints the multiplication table of that number"
      ]
    },
    {
      "cell_type": "code",
      "metadata": {
        "id": "t7W6svEKDRrj",
        "colab_type": "code",
        "outputId": "3f0f271b-02a6-4494-d0b5-788cdd0ee84e",
        "colab": {
          "base_uri": "https://localhost:8080/",
          "height": 208
        }
      },
      "source": [
        "num = int(input())\n",
        "def mul(num):\n",
        "    \"\"\"\n",
        "    This function prints multiplication table of a number \n",
        "\n",
        "    \"\"\"\n",
        "    for i in range(1,11):\n",
        "        print(str(num),'*',str(i),'=',num*i)\n",
        "        \n",
        "\n",
        "mul(num)"
      ],
      "execution_count": 0,
      "outputs": [
        {
          "output_type": "stream",
          "text": [
            "10\n",
            "10 * 1 = 10\n",
            "10 * 2 = 20\n",
            "10 * 3 = 30\n",
            "10 * 4 = 40\n",
            "10 * 5 = 50\n",
            "10 * 6 = 60\n",
            "10 * 7 = 70\n",
            "10 * 8 = 80\n",
            "10 * 9 = 90\n",
            "10 * 10 = 100\n"
          ],
          "name": "stdout"
        }
      ]
    },
    {
      "cell_type": "markdown",
      "metadata": {
        "id": "1Cv826upPFZx",
        "colab_type": "text"
      },
      "source": [
        "program to print twin primes less than 1000. If two consecutive odd numbers are\n",
        "both prime then they are known as twin primes"
      ]
    },
    {
      "cell_type": "markdown",
      "metadata": {
        "id": "O1B_cWESORlx",
        "colab_type": "text"
      },
      "source": [
        "\n",
        "\n",
        "---\n",
        "\n"
      ]
    },
    {
      "cell_type": "code",
      "metadata": {
        "id": "5PVmJiPBPzSf",
        "colab_type": "code",
        "outputId": "4dc51ee7-e00a-4e94-b2ad-59f5c1916b9d",
        "colab": {
          "base_uri": "https://localhost:8080/",
          "height": 641
        }
      },
      "source": [
        "def isprime(n):\n",
        "    for i in range (2,n):\n",
        "        if n%i == 0:\n",
        "            return 0\n",
        "    \n",
        "    else: \n",
        "        return 1\n",
        "        \n",
        "\n",
        "\n",
        "for i in range (1,1001):\n",
        "    if(isprime(i) and isprime(i+2)):\n",
        "        print(i,i+2) \n",
        "\n"
      ],
      "execution_count": 0,
      "outputs": [
        {
          "output_type": "stream",
          "text": [
            "1 3\n",
            "3 5\n",
            "5 7\n",
            "11 13\n",
            "17 19\n",
            "29 31\n",
            "41 43\n",
            "59 61\n",
            "71 73\n",
            "101 103\n",
            "107 109\n",
            "137 139\n",
            "149 151\n",
            "179 181\n",
            "191 193\n",
            "197 199\n",
            "227 229\n",
            "239 241\n",
            "269 271\n",
            "281 283\n",
            "311 313\n",
            "347 349\n",
            "419 421\n",
            "431 433\n",
            "461 463\n",
            "521 523\n",
            "569 571\n",
            "599 601\n",
            "617 619\n",
            "641 643\n",
            "659 661\n",
            "809 811\n",
            "821 823\n",
            "827 829\n",
            "857 859\n",
            "881 883\n"
          ],
          "name": "stdout"
        }
      ]
    },
    {
      "cell_type": "markdown",
      "metadata": {
        "id": "UBf4bjyUgAHs",
        "colab_type": "text"
      },
      "source": [
        " prime factors of a number"
      ]
    },
    {
      "cell_type": "code",
      "metadata": {
        "id": "6E1NAauumonm",
        "colab_type": "code",
        "outputId": "951a0f81-9cef-4a6c-ef0f-1f02155e38ea",
        "colab": {
          "base_uri": "https://localhost:8080/",
          "height": 52
        }
      },
      "source": [
        "n = int(input())\n",
        "lst = []\n",
        "lst1 = []\n",
        "\n",
        "def isPrime(n):\n",
        "    for i in range (2,n):\n",
        "        if n%i == 0:\n",
        "            return 0   \n",
        "    else: \n",
        "        return 1\n",
        "\n",
        "def primeFactor(n):\n",
        "    for j in range(2,n):\n",
        "        if (isPrime(j)):\n",
        "            lst.append(j) \n",
        "    for ele in lst:\n",
        "        if((ele<n) and n%ele==0):\n",
        "            n = n /ele\n",
        "            lst1.append(ele)\n",
        "            if(isPrime(int(n))):\n",
        "                lst1.append(int(n))\n",
        "            else:\n",
        "                return primeFactor(int(n))\n",
        "\n",
        "\n",
        "primeFactor(n)\n",
        "if(n==0):\n",
        "    print(\"N/A\")\n",
        "elif(len(lst1)==0):\n",
        "    print(\"prime number\")\n",
        "else:\n",
        "    print(lst1) \n",
        "      \n",
        "   "
      ],
      "execution_count": 32,
      "outputs": [
        {
          "output_type": "stream",
          "text": [
            "6\n",
            "[2, 3]\n"
          ],
          "name": "stdout"
        }
      ]
    },
    {
      "cell_type": "markdown",
      "metadata": {
        "id": "ewEZ-jb1xfDa",
        "colab_type": "text"
      },
      "source": [
        "permutations and combinations formula implementation"
      ]
    },
    {
      "cell_type": "code",
      "metadata": {
        "id": "z2LCwFngfY6-",
        "colab_type": "code",
        "colab": {
          "base_uri": "https://localhost:8080/",
          "height": 87
        },
        "outputId": "97f94993-c59a-464e-9340-3e827b15d62e"
      },
      "source": [
        "n = int(input())\n",
        "r = int(input())\n",
        "def fact(n):\n",
        "    if(n==1 or n==0):\n",
        "        return(1)   \n",
        "    if(n!=1):\n",
        "        return (n *fact(n-1))\n",
        "           \n",
        "def permutation(n,r):\n",
        "    if(n>r):\n",
        "        return fact(n)/fact(n-r)\n",
        "    else:\n",
        "        print(\"not valid\")\n",
        "\n",
        "print(permutation(n,r))\n",
        "\n",
        "def combinations(n,r):\n",
        "    if(n>r):\n",
        "        return fact(n)/(fact(r)*fact(n-r))\n",
        "    else:\n",
        "        print(\"not valid\")\n",
        "\n",
        "print(combinations(n,r))\n"
      ],
      "execution_count": 125,
      "outputs": [
        {
          "output_type": "stream",
          "text": [
            "7\n",
            "0\n",
            "1.0\n",
            "1.0\n"
          ],
          "name": "stdout"
        }
      ]
    },
    {
      "cell_type": "markdown",
      "metadata": {
        "id": "L9PdzMg5xuwH",
        "colab_type": "text"
      },
      "source": [
        " converts a decimal number to binary number"
      ]
    },
    {
      "cell_type": "code",
      "metadata": {
        "id": "h_B87uzI4aFR",
        "colab_type": "code",
        "colab": {
          "base_uri": "https://localhost:8080/",
          "height": 52
        },
        "outputId": "98c76839-691e-460c-bf87-159acdc25ee8"
      },
      "source": [
        "n = int(input())\n",
        "ls=[]\n",
        "a=\"\"\n",
        "def binary(n):\n",
        "    if(n>0):\n",
        "        if(n>1):\n",
        "            m = int(n%2)\n",
        "            ls.append(m)\n",
        "            n=int(n/2)\n",
        "            binary(n)\n",
        "        else:\n",
        "            n=0\n",
        "            ls.append(1)\n",
        "binary(n)\n",
        "ls.reverse()\n",
        "for ele in ls:\n",
        "    a = a +str(ele)\n",
        "print(a)"
      ],
      "execution_count": 156,
      "outputs": [
        {
          "output_type": "stream",
          "text": [
            "10\n",
            "1010\n"
          ],
          "name": "stdout"
        }
      ]
    },
    {
      "cell_type": "markdown",
      "metadata": {
        "id": "wJwJaLDZx1MS",
        "colab_type": "text"
      },
      "source": [
        "sum of the cubes of\n",
        "individual digits of that number and armstrong number\n"
      ]
    },
    {
      "cell_type": "code",
      "metadata": {
        "id": "IRt0eAAL-wm8",
        "colab_type": "code",
        "colab": {
          "base_uri": "https://localhost:8080/",
          "height": 139
        },
        "outputId": "68811c7d-a2a3-4241-ce37-6976c2e1ac5f"
      },
      "source": [
        "n = int(input())\n",
        "s = str(n)\n",
        "m=0\n",
        "\n",
        "def cubesum(x):\n",
        "    global m # I got an error about referenced variable. So I checked in net and resolved the issue using global keyword\n",
        "    for i in range(len(x)):\n",
        "        m = m + (int(x[i])**3)\n",
        "    return(m)\n",
        "\n",
        "\n",
        "if(n == cubesum(s)):\n",
        "    m =0\n",
        "    print(\"armstrong number\")\n",
        "\n",
        "for i in range (401):\n",
        "    j=str(i)\n",
        "    m = 0\n",
        "    if(i==cubesum(j)):\n",
        "        print(i)\n"
      ],
      "execution_count": 93,
      "outputs": [
        {
          "output_type": "stream",
          "text": [
            "370\n",
            "armstrong number\n",
            "0\n",
            "1\n",
            "153\n",
            "370\n",
            "371\n"
          ],
          "name": "stdout"
        }
      ]
    },
    {
      "cell_type": "markdown",
      "metadata": {
        "id": "HJBwAsvhx8ct",
        "colab_type": "text"
      },
      "source": [
        "product of digits of that\n",
        "number"
      ]
    },
    {
      "cell_type": "code",
      "metadata": {
        "id": "oH8AmwYBoF-J",
        "colab_type": "code",
        "colab": {
          "base_uri": "https://localhost:8080/",
          "height": 52
        },
        "outputId": "242338e4-de31-4a38-8cfe-32ae15699119"
      },
      "source": [
        "n = int(input())\n",
        "s = str(n)\n",
        "m=1\n",
        "\n",
        "def  prodDigits(x):\n",
        "    global m\n",
        "    for i in range(len(x)):\n",
        "        m = m * (int(x[i]))\n",
        "    return(m)\n",
        "\n",
        "p =  prodDigits(s)\n",
        "\n",
        "print(p)"
      ],
      "execution_count": 106,
      "outputs": [
        {
          "output_type": "stream",
          "text": [
            "123\n",
            "6\n"
          ],
          "name": "stdout"
        }
      ]
    },
    {
      "cell_type": "markdown",
      "metadata": {
        "id": "QaxAWxTCyEiA",
        "colab_type": "text"
      },
      "source": [
        "MDR and MPersistence"
      ]
    },
    {
      "cell_type": "code",
      "metadata": {
        "id": "Omv9286EpXXQ",
        "colab_type": "code",
        "colab": {
          "base_uri": "https://localhost:8080/",
          "height": 69
        },
        "outputId": "4c0a56e8-fc90-445a-e971-c855ceb9382b"
      },
      "source": [
        "n = int(input())\n",
        "s = str(n)\n",
        "m=1\n",
        "num = 0\n",
        "\n",
        "def  prodDigits(x):\n",
        "    global m\n",
        "    global num \n",
        "    m = 1\n",
        "    num = num + 1\n",
        "    for i in range(len(x)):\n",
        "        m = m * (int(x[i]))\n",
        "    return(m)\n",
        "\n",
        "def MDR(x):\n",
        "    p = str(prodDigits(x))\n",
        "    if(len(p)==1):\n",
        "        print(\"MDR=\",int(p))\n",
        "    else:\n",
        "        MDR(p)\n",
        "MDR(s)\n",
        "\n",
        "def MPersistence():\n",
        "    print(\"MPersistence\",num)\n",
        "\n",
        "MPersistence()"
      ],
      "execution_count": 154,
      "outputs": [
        {
          "output_type": "stream",
          "text": [
            "341\n",
            "MDR= 2\n",
            "MPersistence 2\n"
          ],
          "name": "stdout"
        }
      ]
    },
    {
      "cell_type": "markdown",
      "metadata": {
        "id": "HCTb7nJhyL_z",
        "colab_type": "text"
      },
      "source": [
        " proper divisors of a number"
      ]
    },
    {
      "cell_type": "code",
      "metadata": {
        "id": "SLkCjvn_xBk6",
        "colab_type": "code",
        "colab": {
          "base_uri": "https://localhost:8080/",
          "height": 173
        },
        "outputId": "3a8621ff-5c8a-46f7-d39b-55862020a856"
      },
      "source": [
        "n = int(input())\n",
        "\n",
        "def sumPdivisors(n):\n",
        "    for i in range(1,n):\n",
        "        if((n%i)==0):\n",
        "            print(i)\n",
        "            \n",
        "sumPdivisors(n)\n",
        "       \n",
        "        "
      ],
      "execution_count": 160,
      "outputs": [
        {
          "output_type": "stream",
          "text": [
            "36\n",
            "1\n",
            "2\n",
            "3\n",
            "4\n",
            "6\n",
            "9\n",
            "12\n",
            "18\n"
          ],
          "name": "stdout"
        }
      ]
    },
    {
      "cell_type": "markdown",
      "metadata": {
        "id": "NRffks7ByTAu",
        "colab_type": "text"
      },
      "source": [
        " perfect numbers in a range"
      ]
    },
    {
      "cell_type": "code",
      "metadata": {
        "id": "70EnJdYt6wfc",
        "colab_type": "code",
        "colab": {
          "base_uri": "https://localhost:8080/",
          "height": 69
        },
        "outputId": "b868f90c-8274-4f81-9212-400388282012"
      },
      "source": [
        "n = int(input())\n",
        "lst = []\n",
        "sum = 0\n",
        "def sumPdivisors(n):\n",
        "    for j in range(1,n):\n",
        "        if((n%j)==0):\n",
        "            lst.append(j)\n",
        "            \n",
        "def isPerfectNum(n):\n",
        "    global sum \n",
        "    sum = 0\n",
        "    for num in lst:\n",
        "        sum +=num\n",
        "    if(sum==n):\n",
        "         print(\"perfect number\", n)\n",
        "\n",
        "for i in range(1,n):\n",
        "    lst = []\n",
        "    sumPdivisors(i)\n",
        "    isPerfectNum(i)"
      ],
      "execution_count": 184,
      "outputs": [
        {
          "output_type": "stream",
          "text": [
            "100\n",
            "perfect number 6\n",
            "perfect number 28\n"
          ],
          "name": "stdout"
        }
      ]
    },
    {
      "cell_type": "markdown",
      "metadata": {
        "id": "IlJLpzKeyYcs",
        "colab_type": "text"
      },
      "source": [
        " amicable numbers"
      ]
    },
    {
      "cell_type": "code",
      "metadata": {
        "id": "JiXykOA__JBE",
        "colab_type": "code",
        "colab": {
          "base_uri": "https://localhost:8080/",
          "height": 69
        },
        "outputId": "a488ad56-fc7f-4dd1-fce3-5d69d3118379"
      },
      "source": [
        "n = int(input())\n",
        "m = int(input())\n",
        "sum = 0\n",
        "isAmicable = 0\n",
        "\n",
        "def sumPdivisors(n):\n",
        "    global sum\n",
        "    lst = []\n",
        "    sum = 0\n",
        "    for j in range(1,n):\n",
        "        if((n%j)==0):\n",
        "            lst.append(j)\n",
        "    for num in lst:\n",
        "        sum +=num\n",
        "    return sum\n",
        "\n",
        "if(m == sumPdivisors(n) and n == sumPdivisors(m)):\n",
        "    print(\"amicable\")\n",
        "else:\n",
        "    print(\"not\") \n",
        "\n"
      ],
      "execution_count": 20,
      "outputs": [
        {
          "output_type": "stream",
          "text": [
            "0\n",
            "1\n",
            "not\n"
          ],
          "name": "stdout"
        }
      ]
    },
    {
      "cell_type": "markdown",
      "metadata": {
        "id": "-puT753EyeJ5",
        "colab_type": "text"
      },
      "source": [
        " filter odd numbers in a list by using filter function"
      ]
    },
    {
      "cell_type": "code",
      "metadata": {
        "id": "MkXXMErCtcNr",
        "colab_type": "code",
        "colab": {
          "base_uri": "https://localhost:8080/",
          "height": 52
        },
        "outputId": "a82ebf41-d383-40f6-f4ff-2440f74f7b54"
      },
      "source": [
        "lst=[1,2,3,4,5,6,7,8,9]\n",
        "print(lst)\n",
        "\n",
        "def oddnumber(num):\n",
        "        if(num%2!=0):\n",
        "            return num\n",
        "\n",
        "\n",
        "odd_lst = list(filter(oddnumber,lst))\n",
        "\n",
        "\n",
        "print(odd_lst)"
      ],
      "execution_count": 24,
      "outputs": [
        {
          "output_type": "stream",
          "text": [
            "[1, 2, 3, 4, 5, 6, 7, 8, 9]\n",
            "[1, 3, 5, 7, 9]\n"
          ],
          "name": "stdout"
        }
      ]
    },
    {
      "cell_type": "markdown",
      "metadata": {
        "id": "L3Pij0s6ylZz",
        "colab_type": "text"
      },
      "source": [
        "make a list whose elements are cube of elements in\n",
        "a given list\n"
      ]
    },
    {
      "cell_type": "code",
      "metadata": {
        "id": "3cLf8mgDvLii",
        "colab_type": "code",
        "colab": {
          "base_uri": "https://localhost:8080/",
          "height": 35
        },
        "outputId": "c55d1f2f-7eb3-4fe6-86b8-e1065daff385"
      },
      "source": [
        "lst = [1,2,3,4,5,6,7,8,9]\n",
        "\n",
        "cube = []\n",
        "\n",
        "for num in lst:\n",
        "    cube.append(num ** 3)\n",
        "\n",
        "print(cube)"
      ],
      "execution_count": 25,
      "outputs": [
        {
          "output_type": "stream",
          "text": [
            "[1, 8, 27, 64, 125, 216, 343, 512, 729]\n"
          ],
          "name": "stdout"
        }
      ]
    },
    {
      "cell_type": "markdown",
      "metadata": {
        "id": "r9oa5wywyqQh",
        "colab_type": "text"
      },
      "source": [
        " map() and filter() to make a list whose elements are cube of\n",
        "even number in a given list"
      ]
    },
    {
      "cell_type": "code",
      "metadata": {
        "id": "FbevUxYSviea",
        "colab_type": "code",
        "colab": {
          "base_uri": "https://localhost:8080/",
          "height": 35
        },
        "outputId": "a5432317-b4c2-432f-dbd4-49cab87cc6e8"
      },
      "source": [
        "lst = [1,2,3,4,5,6,7,8,9]\n",
        "\n",
        "def cube(num):\n",
        "    return num ** 3\n",
        "\n",
        "\n",
        "def oddnumber(num):\n",
        "        if(num%2==0):\n",
        "            return num\n",
        "\n",
        "odd_cube_lst= list(filter(oddnumber,(map(cube,lst))))\n",
        "\n",
        "print(odd_cube_lst)"
      ],
      "execution_count": 29,
      "outputs": [
        {
          "output_type": "stream",
          "text": [
            "[8, 64, 216, 512]\n"
          ],
          "name": "stdout"
        }
      ]
    },
    {
      "cell_type": "code",
      "metadata": {
        "id": "RrTHEqvY-IVv",
        "colab_type": "code",
        "colab": {}
      },
      "source": [
        ""
      ],
      "execution_count": 0,
      "outputs": []
    }
  ]
}